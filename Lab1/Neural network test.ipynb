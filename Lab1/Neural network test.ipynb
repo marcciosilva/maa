{
 "cells": [
  {
   "cell_type": "code",
   "execution_count": 217,
   "metadata": {
    "collapsed": true
   },
   "outputs": [],
   "source": [
    "import numpy\n",
    "from sklearn.neural_network import MLPClassifier\n",
    "from sklearn.externals import joblib"
   ]
  },
  {
   "cell_type": "markdown",
   "metadata": {},
   "source": [
    "\n",
    "<ul>\n",
    "<li>Se inicializa una red neuronal usando función de activación de tangente hiperbólica, tasa de aprendizaje de 0.1 y 44 neuronas en capa oculta.</li>\n",
    "<li>Se entrena con dos instancias de entrenamiento (X e y) usando el método fit sobre la red neuronal.</li>\n",
    "</ul>\n"
   ]
  },
  {
   "cell_type": "code",
   "execution_count": 218,
   "metadata": {
    "collapsed": false
   },
   "outputs": [
    {
     "data": {
      "text/plain": [
       "MLPClassifier(activation='tanh', alpha=0.0001, batch_size='auto', beta_1=0.9,\n",
       "       beta_2=0.999, early_stopping=False, epsilon=1e-08,\n",
       "       hidden_layer_sizes=44, learning_rate='constant',\n",
       "       learning_rate_init=0.1, max_iter=200, momentum=0.9,\n",
       "       nesterovs_momentum=True, power_t=0.5, random_state=1, shuffle=True,\n",
       "       solver='lbfgs', tol=0.0001, validation_fraction=0.1, verbose=False,\n",
       "       warm_start=False)"
      ]
     },
     "execution_count": 218,
     "metadata": {},
     "output_type": "execute_result"
    }
   ],
   "source": [
    "# Inicializo red neuronal con scikit\n",
    "clf = MLPClassifier(solver='lbfgs', activation='tanh', alpha=1e-4,\n",
    "    hidden_layer_sizes=(44), random_state=1, learning_rate_init=.1)\n",
    "# Genero un array de vectores de input, de tamaño 64 y valores de [0,2]\n",
    "X = []\n",
    "for i in range(4):\n",
    "    X.append(numpy.random.randint(3, size=64))\n",
    "# X = numpy.random.randint(3, size=64).tolist()\n",
    "# X.append(5)\n",
    "# X.append(4)\n",
    "# X = X.reshape(1,-1)\n",
    "y = [0, 1, -1, 0]\n",
    "# Se entrena con X e Y a la red\n",
    "clf.fit(X, y)\n",
    "X = []\n",
    "for i in range(4):\n",
    "    X.append(numpy.random.randint(3, size=64))\n",
    "y = [-1, 0, -1, 1]\n",
    "# Se entrena nuevamente\n",
    "clf.fit(X, y)\n",
    "# clf.predict([[0., 0.], [1., 1.], [2., 1.], [1., 2.], [0., 1.5]])"
   ]
  },
  {
   "cell_type": "markdown",
   "metadata": {},
   "source": [
    "Ejemplo de cómo evaluar un vector de entrada nuevo (lo que sería un tablero de Othello) con la red neuronal."
   ]
  },
  {
   "cell_type": "code",
   "execution_count": 219,
   "metadata": {
    "collapsed": false
   },
   "outputs": [
    {
     "data": {
      "text/plain": [
       "array([1])"
      ]
     },
     "execution_count": 219,
     "metadata": {},
     "output_type": "execute_result"
    }
   ],
   "source": [
    "newBoard = numpy.random.randint(3, size=64)\n",
    "newBoard = newBoard.reshape(1,-1)\n",
    "clf.predict(newBoard)"
   ]
  },
  {
   "cell_type": "markdown",
   "metadata": {},
   "source": [
    "Ejemplo de como persistir red neuronal entrenada a un archivo en la ruta del notebook."
   ]
  },
  {
   "cell_type": "code",
   "execution_count": 248,
   "metadata": {
    "collapsed": false
   },
   "outputs": [
    {
     "data": {
      "text/plain": [
       "['red-neuronal-test.pkl']"
      ]
     },
     "execution_count": 248,
     "metadata": {},
     "output_type": "execute_result"
    }
   ],
   "source": [
    "neuralNetwork = MLPClassifier(solver='lbfgs', activation='tanh', alpha=1e-4,\n",
    "    hidden_layer_sizes=(44), random_state=1, learning_rate_init=.1)\n",
    "joblib.dump(neuralNetwork, 'red-neuronal-test.pkl')"
   ]
  }
 ],
 "metadata": {
  "kernelspec": {
   "display_name": "Python 2",
   "language": "python",
   "name": "python2"
  },
  "language_info": {
   "codemirror_mode": {
    "name": "ipython",
    "version": 2
   },
   "file_extension": ".py",
   "mimetype": "text/x-python",
   "name": "python",
   "nbconvert_exporter": "python",
   "pygments_lexer": "ipython2",
   "version": "2.7.12"
  }
 },
 "nbformat": 4,
 "nbformat_minor": 0
}
