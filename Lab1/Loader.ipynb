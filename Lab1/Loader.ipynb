{
 "cells": [
  {
   "cell_type": "markdown",
   "metadata": {},
   "source": [
    "Tengo que importar los tipos de juego, ya sea batch (útil para generar casos de entrenamiento y para realizar una evaluación entre jugadores no humanos) o un juego interactivo en el que se puede jugar jugador contra jugador o contra la máquina."
   ]
  },
  {
   "cell_type": "code",
   "execution_count": 5,
   "metadata": {
    "collapsed": false
   },
   "outputs": [],
   "source": [
    "from InteractiveGame import InteractiveGame\n",
    "from BatchGame import BatchGame"
   ]
  },
  {
   "cell_type": "markdown",
   "metadata": {},
   "source": [
    "Realizo los imports de los jugadores correspondientes."
   ]
  },
  {
   "cell_type": "code",
   "execution_count": 6,
   "metadata": {
    "collapsed": true
   },
   "outputs": [],
   "source": [
    "from Players.GreedyPlayer import GreedyPlayer\n",
    "from Players.RandomPlayer import RandomPlayer\n",
    "from Players.PositionalPlayer import PositionalPlayer\n",
    "from Players.JugadorGrupo13 import JugadorGrupo13"
   ]
  },
  {
   "cell_type": "markdown",
   "metadata": {},
   "source": [
    "Si quiero inicializar una partida interactiva:"
   ]
  },
  {
   "cell_type": "code",
   "execution_count": null,
   "metadata": {
    "collapsed": false
   },
   "outputs": [],
   "source": [
    "InteractiveGame([GreedyPlayer, RandomPlayer, PositionalPlayer, JugadorGrupo13]).play()"
   ]
  },
  {
   "cell_type": "markdown",
   "metadata": {},
   "source": [
    "O puedo correr un batch de juegos para generar datos de entrenamiento o evaluar a mi Jugador."
   ]
  },
  {
   "cell_type": "code",
   "execution_count": null,
   "metadata": {
    "collapsed": false
   },
   "outputs": [],
   "source": [
    "GreedyVRandom = [BatchGame(black_player=GreedyPlayer, white_player=RandomPlayer, directory='logs1000').play() for _ in xrange(500)]\n",
    "PositionalVRandom = [BatchGame(black_player=PositionalPlayer, white_player=RandomPlayer, directory='logs1000').play() for _ in xrange(500)]\n",
    "print \"1000 terminado\"\n",
    "GreedyVRandom = [BatchGame(black_player=GreedyPlayer, white_player=RandomPlayer, directory='logs10000').play() for _ in xrange(5000)]\n",
    "PositionalVRandom = [BatchGame(black_player=PositionalPlayer, white_player=RandomPlayer, directory='logs10000').play() for _ in xrange(5000)]\n",
    "print \"10000 terminado\"\n",
    "GreedyVRandom = [BatchGame(black_player=GreedyPlayer, white_player=RandomPlayer, directory='logs100000').play() for _ in xrange(50000)]\n",
    "PositionalVRandom = [BatchGame(black_player=PositionalPlayer, white_player=RandomPlayer, directory='logs100000').play() for _ in xrange(50000)]\n",
    "print \"100000 terminado\"\n",
    "# PositionalVRandom = [BatchGame(black_player=JugadorGrupo13, white_player=RandomPlayer).play() for _ in range(100)]\n",
    "# PositionalVRandom = [BatchGame(black_player=JugadorGrupo13, white_player=PositionalPlayer).play() for _ in range(100)]\n",
    "# PositionalVRandom = [BatchGame(black_player=JugadorGrupo13, white_player=GreedyPlayer).play() for _ in range(100)]\n",
    "print \"Finalizado.\""
   ]
  },
  {
   "cell_type": "code",
   "execution_count": null,
   "metadata": {
    "collapsed": true
   },
   "outputs": [],
   "source": []
  },
  {
   "cell_type": "code",
   "execution_count": null,
   "metadata": {
    "collapsed": true
   },
   "outputs": [],
   "source": []
  },
  {
   "cell_type": "code",
   "execution_count": null,
   "metadata": {
    "collapsed": false
   },
   "outputs": [],
   "source": [
    "from InteractiveGame import InteractiveGame\n",
    "from BatchGame import BatchGame\n",
    "from Players.GreedyPlayer import GreedyPlayer\n",
    "from Players.RandomPlayer import RandomPlayer\n",
    "from Players.JugadorGrupo13 import JugadorGrupo13\n",
    "JugadorGrupo13VGreedy = [BatchGame(black_player=JugadorGrupo13, white_player=RandomPlayer).play() for _ in xrange(100)]"
   ]
  }
 ],
 "metadata": {
  "kernelspec": {
   "display_name": "Python 2",
   "language": "python",
   "name": "python2"
  },
  "language_info": {
   "codemirror_mode": {
    "name": "ipython",
    "version": 2
   },
   "file_extension": ".py",
   "mimetype": "text/x-python",
   "name": "python",
   "nbconvert_exporter": "python",
   "pygments_lexer": "ipython2",
   "version": "2.7.12"
  }
 },
 "nbformat": 4,
 "nbformat_minor": 0
}
